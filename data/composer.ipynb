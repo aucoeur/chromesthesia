{
 "cells": [
  {
   "cell_type": "code",
   "execution_count": 4,
   "metadata": {},
   "outputs": [
    {
     "output_type": "stream",
     "name": "stdout",
     "text": [
      "hi\n"
     ]
    }
   ],
   "source": [
    "print(\"hi\")"
   ]
  },
  {
   "cell_type": "code",
   "execution_count": 5,
   "metadata": {},
   "outputs": [],
   "source": [
    "import pandas as pd\n",
    "pd.set_option('display.max_colwidth', None)"
   ]
  },
  {
   "cell_type": "code",
   "execution_count": 6,
   "metadata": {},
   "outputs": [
    {
     "output_type": "stream",
     "name": "stdout",
     "text": [
      "101\n"
     ]
    }
   ],
   "source": [
    "csv_file = \"chords-chordino_02_beethoven.csv\"\n",
    "composer = pd.read_csv(csv_file, \n",
    "                        names=['filename', 'timestamp', 'chord'])\n",
    "composer.head(5)\n",
    "count1 = composer.filename.unique()\n",
    "print(len(count1))"
   ]
  },
  {
   "cell_type": "code",
   "execution_count": 7,
   "metadata": {},
   "outputs": [
    {
     "output_type": "execute_result",
     "data": {
      "text/plain": [
       "0                                                      02_beethoven/CrossComp-0165_02_beethoven_10_in_e_flat.mp3\n",
       "1                                                      02_beethoven/CrossComp-0165_02_beethoven_10_in_e_flat.mp3\n",
       "2                                                      02_beethoven/CrossComp-0165_02_beethoven_10_in_e_flat.mp3\n",
       "3                                                      02_beethoven/CrossComp-0165_02_beethoven_10_in_e_flat.mp3\n",
       "4                                                      02_beethoven/CrossComp-0165_02_beethoven_10_in_e_flat.mp3\n",
       "                                                          ...                                                   \n",
       "15417    02_beethoven/CrossComp-0162_02_beethoven_two_german_dances_allegro_and_da_capo_the_deutscher_hess_6.mp3\n",
       "15418    02_beethoven/CrossComp-0162_02_beethoven_two_german_dances_allegro_and_da_capo_the_deutscher_hess_6.mp3\n",
       "15419    02_beethoven/CrossComp-0162_02_beethoven_two_german_dances_allegro_and_da_capo_the_deutscher_hess_6.mp3\n",
       "15420    02_beethoven/CrossComp-0162_02_beethoven_two_german_dances_allegro_and_da_capo_the_deutscher_hess_6.mp3\n",
       "15421    02_beethoven/CrossComp-0162_02_beethoven_two_german_dances_allegro_and_da_capo_the_deutscher_hess_6.mp3\n",
       "Name: filename, Length: 15422, dtype: object"
      ]
     },
     "metadata": {},
     "execution_count": 7
    }
   ],
   "source": [
    "df = composer.ffill()\n",
    "df.filename"
   ]
  },
  {
   "cell_type": "code",
   "execution_count": 8,
   "metadata": {
    "tags": []
   },
   "outputs": [
    {
     "output_type": "execute_result",
     "data": {
      "text/plain": [
       "                                                          filename  timestamp  \\\n",
       "1                                                    10 in e flat         0.3   \n",
       "2                                                    10 in e flat         5.9   \n",
       "3                                                    10 in e flat         9.0   \n",
       "4                                                    10 in e flat        16.8   \n",
       "5                                                    10 in e flat        19.8   \n",
       "...                                                            ...        ...   \n",
       "15415  two german dances allegro and da capo the deutscher hess  6       74.2   \n",
       "15416  two german dances allegro and da capo the deutscher hess  6       76.1   \n",
       "15417  two german dances allegro and da capo the deutscher hess  6       78.0   \n",
       "15418  two german dances allegro and da capo the deutscher hess  6       80.1   \n",
       "15419  two german dances allegro and da capo the deutscher hess  6       82.5   \n",
       "\n",
       "             chord  \n",
       "1           Eb_maj  \n",
       "2      Bb_maj_maj7  \n",
       "3           Eb_maj  \n",
       "4      Bb_maj_maj7  \n",
       "5           Eb_maj  \n",
       "...            ...  \n",
       "15415        F_maj  \n",
       "15416   C_maj_min7  \n",
       "15417        F_maj  \n",
       "15418   C_maj_min7  \n",
       "15419        F_maj  \n",
       "\n",
       "[15116 rows x 3 columns]"
      ],
      "text/html": "<div>\n<style scoped>\n    .dataframe tbody tr th:only-of-type {\n        vertical-align: middle;\n    }\n\n    .dataframe tbody tr th {\n        vertical-align: top;\n    }\n\n    .dataframe thead th {\n        text-align: right;\n    }\n</style>\n<table border=\"1\" class=\"dataframe\">\n  <thead>\n    <tr style=\"text-align: right;\">\n      <th></th>\n      <th>filename</th>\n      <th>timestamp</th>\n      <th>chord</th>\n    </tr>\n  </thead>\n  <tbody>\n    <tr>\n      <th>1</th>\n      <td>10 in e flat</td>\n      <td>0.3</td>\n      <td>Eb_maj</td>\n    </tr>\n    <tr>\n      <th>2</th>\n      <td>10 in e flat</td>\n      <td>5.9</td>\n      <td>Bb_maj_maj7</td>\n    </tr>\n    <tr>\n      <th>3</th>\n      <td>10 in e flat</td>\n      <td>9.0</td>\n      <td>Eb_maj</td>\n    </tr>\n    <tr>\n      <th>4</th>\n      <td>10 in e flat</td>\n      <td>16.8</td>\n      <td>Bb_maj_maj7</td>\n    </tr>\n    <tr>\n      <th>5</th>\n      <td>10 in e flat</td>\n      <td>19.8</td>\n      <td>Eb_maj</td>\n    </tr>\n    <tr>\n      <th>...</th>\n      <td>...</td>\n      <td>...</td>\n      <td>...</td>\n    </tr>\n    <tr>\n      <th>15415</th>\n      <td>two german dances allegro and da capo the deutscher hess  6</td>\n      <td>74.2</td>\n      <td>F_maj</td>\n    </tr>\n    <tr>\n      <th>15416</th>\n      <td>two german dances allegro and da capo the deutscher hess  6</td>\n      <td>76.1</td>\n      <td>C_maj_min7</td>\n    </tr>\n    <tr>\n      <th>15417</th>\n      <td>two german dances allegro and da capo the deutscher hess  6</td>\n      <td>78.0</td>\n      <td>F_maj</td>\n    </tr>\n    <tr>\n      <th>15418</th>\n      <td>two german dances allegro and da capo the deutscher hess  6</td>\n      <td>80.1</td>\n      <td>C_maj_min7</td>\n    </tr>\n    <tr>\n      <th>15419</th>\n      <td>two german dances allegro and da capo the deutscher hess  6</td>\n      <td>82.5</td>\n      <td>F_maj</td>\n    </tr>\n  </tbody>\n</table>\n<p>15116 rows × 3 columns</p>\n</div>"
     },
     "metadata": {},
     "execution_count": 8
    }
   ],
   "source": [
    "from re import sub\n",
    "\n",
    "def clean_filename(filename):\n",
    "    filename = sub(r\"02_beethoven/CrossComp-\\d{4}_02_beethoven_\", \"\", filename)\n",
    "    filename = sub(r\"(_{1}[a-z]+.?\\s*)(\\d*.mp3\\Z)\", r\"\\1 \\2\", filename)\n",
    "    filename = filename.replace(\".mp3\", \"\")\n",
    "    filename = filename.replace(\"_\", \" \")\n",
    "    return filename\n",
    "\n",
    "df['filename'] = df['filename'].apply(lambda x: clean_filename(x))\n",
    "no_chords = df[df['chord'] == 'N'].index\n",
    "df.drop(no_chords, inplace=True)\n",
    "df"
   ]
  },
  {
   "cell_type": "code",
   "execution_count": 9,
   "metadata": {},
   "outputs": [
    {
     "output_type": "stream",
     "name": "stdout",
     "text": [
      "['10 in e flat ' '11 in c ' '12 in f ' '1 in d ' '2 in b flat ' '3 in g '\n '4 in e flat ' '5 in c ' '6 in a ' '7 in d ' '8 in b flat ' '9 in g '\n 'adagio  allegro con brio ' 'adagio cantabile '\n 'adagio ma non troppo e molto cantabile '\n 'adagio molto e canabile andante moderato ' 'allegretto scherzando '\n 'allegro ma non troppo un poco maestoso ' 'allegro molto '\n 'allegro vivace ' 'andante con moto alla marcia  presto '\n 'andante con moto quasi allegretto ' 'andante con variazioni '\n 'andante f major woo57 andante favori ' 'consecration of the house '\n 'coriolanus' 'creatures of prometheus ' 'egmont' 'fidelio'\n 'finale alla breve ' 'finale allegro molto ' 'finale presto '\n 'grosse fuge op. 133' 'introduzione andante con moto  allegro vivace '\n 'king stephen op. 117' 'lenora no. 1 op. 138' 'lenora no. 2 op. 72'\n 'leonora no. 3' 'maestoso  allegro teneramente '\n 'marcia funebre allegro assai ' 'menuetto grazioso ' 'molto vivace '\n 'music for knightly ballet woo  1' 'nameday celebration op  115'\n 'no. 5 allegro ' 'no. 5 allegro con brio ' 'no. 5 andante con moto '\n 'no. 6 allegretto ' 'no. 6 allegro ' 'no. 6 allegro ma non troppo '\n 'no. 6 andante molto mosso '\n 'rondo a capriccio g major op.129 rage over a lost penny '\n 'rondo a major wo o4 9' 'rondo c major op.51 no. 1'\n 'rondo g major op.51 no. ' 'ruins of athens ' 'scherzando vivace '\n 'scherzo allegro molto e vivace ' 'scherzo allegro vivace '\n 'string quarter in f major op. 18 no. 1  1  allegro con brio '\n 'string quarter in f major op. 18 no. 1  2  adagio affettuoso ed appasionato '\n 'string quarter in f major op. 18 no. 1  3'\n 'string quarter in f major op. 18 no. 1  4  allegro '\n 'string quarter in g major op. 18 no. 2  1  allegro '\n 'string quarter in g major op. 18 no. 2  2  adagio cantabile '\n 'string quarter in g major op. 18 no. 2  3'\n 'string quarter in g major op. 18 no. 2  4  allegro molto quasi presto '\n 'string quartet in c sharp minor op. 131 adagio ma non troppo e molto espressivo '\n 'string quartet in c sharp minor op. 131 adagio quasi un poco andante '\n 'string quartet in c sharp minor op. 131 allegro '\n 'string quartet in c sharp minor op. 131 allegro moderato '\n 'string quartet in c sharp minor op. 131 allegro molto vivace '\n 'string quartet in c sharp minor op. 131 andante ma non troppo e molto cantabile '\n 'string quartet in c sharp minor op. 131 presto '\n 'string quartet in f major op. 135 allegretto '\n 'string quartet in f major op. 135 grave ma non troppo trattoallegro '\n 'string quartet in f major op. 135 lento assai cantante e tranquillo '\n 'string quartet in f major op. 135 vivace '\n 'string quartets in a minor op 132 alla marcia assai vivace '\n 'string quartets in a minor op 132 allegro appassionato '\n 'string quartets in a minor op 132 allegro ma non tanto '\n 'string quartets in a minor op 132 assai sostenutoallegro '\n 'string quartets in a minor op 132 heiliger dankgesang eines genesenden in der lydischen tonart molto adagioandante '\n 'string quartets in b flat major op 130 adagio ma non troppo allegro '\n 'string quartets in b flat major op 130 alla danza tedesca allegro assai '\n 'string quartets in b flat major op 130 andante con moto ma non troppo '\n 'string quartets in b flat major op 130 cavatina adagio molto espressivo '\n 'string quartets in b flat major op 130 finale allegro '\n 'string quartets in b flat major op 130 presto '\n 'string quartets in f major h. 34 allegretto '\n 'string quartets in f major h. 34 allegro '\n 'string quartets in f major h. 34 allegro moderato '\n 'symphony no.3 in e flat major op.55  allegro con brio '\n 'symphony no.8 in f major op.93  allegro vivace e con brio '\n 'tempi di menuetto ' 'tempo di menuetto '\n 'the consentration of the house op. 124'\n 'trauermarsch funeral march for lenore prohaska woo  944'\n 'triumphmarsch triumphal march for tarpeja woo 2a'\n 'two german dances allegro and da capo the deutscher hess  6']\n"
     ]
    }
   ],
   "source": [
    "count2 = df.filename.unique()\n",
    "# print(len(count2))\n",
    "print(count2)"
   ]
  },
  {
   "cell_type": "code",
   "execution_count": 10,
   "metadata": {},
   "outputs": [
    {
     "output_type": "execute_result",
     "data": {
      "text/plain": [
       "                                                      filename  timestamp  \\\n",
       "8346  rondo a capriccio g major op.129 rage over a lost penny         0.5   \n",
       "8347  rondo a capriccio g major op.129 rage over a lost penny         2.0   \n",
       "8348  rondo a capriccio g major op.129 rage over a lost penny         3.5   \n",
       "8349  rondo a capriccio g major op.129 rage over a lost penny         6.4   \n",
       "8350  rondo a capriccio g major op.129 rage over a lost penny         7.9   \n",
       "...                                                        ...        ...   \n",
       "8517  rondo a capriccio g major op.129 rage over a lost penny       343.1   \n",
       "8518  rondo a capriccio g major op.129 rage over a lost penny       344.7   \n",
       "8519  rondo a capriccio g major op.129 rage over a lost penny       346.2   \n",
       "8520  rondo a capriccio g major op.129 rage over a lost penny       355.6   \n",
       "8521  rondo a capriccio g major op.129 rage over a lost penny       356.1   \n",
       "\n",
       "           chord  \n",
       "8346       G_maj  \n",
       "8347  D_maj_min7  \n",
       "8348       G_maj  \n",
       "8349       E_min  \n",
       "8350  B_maj_min7  \n",
       "...          ...  \n",
       "8517       G_maj  \n",
       "8518  D_maj_min7  \n",
       "8519  G_maj_maj7  \n",
       "8520  A_dim_min7  \n",
       "8521       G_maj  \n",
       "\n",
       "[176 rows x 3 columns]"
      ],
      "text/html": "<div>\n<style scoped>\n    .dataframe tbody tr th:only-of-type {\n        vertical-align: middle;\n    }\n\n    .dataframe tbody tr th {\n        vertical-align: top;\n    }\n\n    .dataframe thead th {\n        text-align: right;\n    }\n</style>\n<table border=\"1\" class=\"dataframe\">\n  <thead>\n    <tr style=\"text-align: right;\">\n      <th></th>\n      <th>filename</th>\n      <th>timestamp</th>\n      <th>chord</th>\n    </tr>\n  </thead>\n  <tbody>\n    <tr>\n      <th>8346</th>\n      <td>rondo a capriccio g major op.129 rage over a lost penny</td>\n      <td>0.5</td>\n      <td>G_maj</td>\n    </tr>\n    <tr>\n      <th>8347</th>\n      <td>rondo a capriccio g major op.129 rage over a lost penny</td>\n      <td>2.0</td>\n      <td>D_maj_min7</td>\n    </tr>\n    <tr>\n      <th>8348</th>\n      <td>rondo a capriccio g major op.129 rage over a lost penny</td>\n      <td>3.5</td>\n      <td>G_maj</td>\n    </tr>\n    <tr>\n      <th>8349</th>\n      <td>rondo a capriccio g major op.129 rage over a lost penny</td>\n      <td>6.4</td>\n      <td>E_min</td>\n    </tr>\n    <tr>\n      <th>8350</th>\n      <td>rondo a capriccio g major op.129 rage over a lost penny</td>\n      <td>7.9</td>\n      <td>B_maj_min7</td>\n    </tr>\n    <tr>\n      <th>...</th>\n      <td>...</td>\n      <td>...</td>\n      <td>...</td>\n    </tr>\n    <tr>\n      <th>8517</th>\n      <td>rondo a capriccio g major op.129 rage over a lost penny</td>\n      <td>343.1</td>\n      <td>G_maj</td>\n    </tr>\n    <tr>\n      <th>8518</th>\n      <td>rondo a capriccio g major op.129 rage over a lost penny</td>\n      <td>344.7</td>\n      <td>D_maj_min7</td>\n    </tr>\n    <tr>\n      <th>8519</th>\n      <td>rondo a capriccio g major op.129 rage over a lost penny</td>\n      <td>346.2</td>\n      <td>G_maj_maj7</td>\n    </tr>\n    <tr>\n      <th>8520</th>\n      <td>rondo a capriccio g major op.129 rage over a lost penny</td>\n      <td>355.6</td>\n      <td>A_dim_min7</td>\n    </tr>\n    <tr>\n      <th>8521</th>\n      <td>rondo a capriccio g major op.129 rage over a lost penny</td>\n      <td>356.1</td>\n      <td>G_maj</td>\n    </tr>\n  </tbody>\n</table>\n<p>176 rows × 3 columns</p>\n</div>"
     },
     "metadata": {},
     "execution_count": 10
    }
   ],
   "source": [
    "lost_penny = df[df['filename'] == \"rondo a capriccio g major op.129 rage over a lost penny \"]\n",
    "lost_penny"
   ]
  },
  {
   "cell_type": "code",
   "execution_count": 11,
   "metadata": {},
   "outputs": [],
   "source": [
    "lost_penny.to_json(\n",
    "    path_or_buf='lost_penny.json',\n",
    "    orient= 'records',\n",
    "    indent = 2,\n",
    ")"
   ]
  },
  {
   "cell_type": "code",
   "execution_count": 16,
   "metadata": {},
   "outputs": [
    {
     "output_type": "execute_result",
     "data": {
      "text/plain": [
       "chord      A_dim_dim7  A_dim_min7  A_maj_maj7  A_maj_min7  A_min_min7  Ab_dim  \\\n",
       "timestamp                                                                       \n",
       "0.5                 0           0           0           0           0       0   \n",
       "2.0                 0           0           0           0           0       0   \n",
       "3.5                 0           0           0           0           0       0   \n",
       "6.4                 0           0           0           0           0       0   \n",
       "7.9                 0           0           0           0           0       0   \n",
       "...               ...         ...         ...         ...         ...     ...   \n",
       "343.1               0           0           0           0           0       0   \n",
       "344.7               0           0           0           0           0       0   \n",
       "346.2               0           0           0           0           0       0   \n",
       "355.6               0           1           0           0           0       0   \n",
       "356.1               0           0           0           0           0       0   \n",
       "\n",
       "chord      Ab_maj  Ab_maj_maj7  Ab_maj_min7  B_dim_dim7  ...  F_maj_maj7  \\\n",
       "timestamp                                                ...               \n",
       "0.5             0            0            0           0  ...           0   \n",
       "2.0             0            0            0           0  ...           0   \n",
       "3.5             0            0            0           0  ...           0   \n",
       "6.4             0            0            0           0  ...           0   \n",
       "7.9             0            0            0           0  ...           0   \n",
       "...           ...          ...          ...         ...  ...         ...   \n",
       "343.1           0            0            0           0  ...           0   \n",
       "344.7           0            0            0           0  ...           0   \n",
       "346.2           0            0            0           0  ...           0   \n",
       "355.6           0            0            0           0  ...           0   \n",
       "356.1           0            0            0           0  ...           0   \n",
       "\n",
       "chord      F_maj_min7  F_min  F_min_min7  G_dim  G_maj  G_maj_maj7  \\\n",
       "timestamp                                                            \n",
       "0.5                 0      0           0      0      1           0   \n",
       "2.0                 0      0           0      0      0           0   \n",
       "3.5                 0      0           0      0      1           0   \n",
       "6.4                 0      0           0      0      0           0   \n",
       "7.9                 0      0           0      0      0           0   \n",
       "...               ...    ...         ...    ...    ...         ...   \n",
       "343.1               0      0           0      0      1           0   \n",
       "344.7               0      0           0      0      0           0   \n",
       "346.2               0      0           0      0      0           1   \n",
       "355.6               0      0           0      0      0           0   \n",
       "356.1               0      0           0      0      1           0   \n",
       "\n",
       "chord      G_maj_min7  G_min  G_min_min7  \n",
       "timestamp                                 \n",
       "0.5                 0      0           0  \n",
       "2.0                 0      0           0  \n",
       "3.5                 0      0           0  \n",
       "6.4                 0      0           0  \n",
       "7.9                 0      0           0  \n",
       "...               ...    ...         ...  \n",
       "343.1               0      0           0  \n",
       "344.7               0      0           0  \n",
       "346.2               0      0           0  \n",
       "355.6               0      0           0  \n",
       "356.1               0      0           0  \n",
       "\n",
       "[176 rows x 51 columns]"
      ],
      "text/html": "<div>\n<style scoped>\n    .dataframe tbody tr th:only-of-type {\n        vertical-align: middle;\n    }\n\n    .dataframe tbody tr th {\n        vertical-align: top;\n    }\n\n    .dataframe thead th {\n        text-align: right;\n    }\n</style>\n<table border=\"1\" class=\"dataframe\">\n  <thead>\n    <tr style=\"text-align: right;\">\n      <th>chord</th>\n      <th>A_dim_dim7</th>\n      <th>A_dim_min7</th>\n      <th>A_maj_maj7</th>\n      <th>A_maj_min7</th>\n      <th>A_min_min7</th>\n      <th>Ab_dim</th>\n      <th>Ab_maj</th>\n      <th>Ab_maj_maj7</th>\n      <th>Ab_maj_min7</th>\n      <th>B_dim_dim7</th>\n      <th>...</th>\n      <th>F_maj_maj7</th>\n      <th>F_maj_min7</th>\n      <th>F_min</th>\n      <th>F_min_min7</th>\n      <th>G_dim</th>\n      <th>G_maj</th>\n      <th>G_maj_maj7</th>\n      <th>G_maj_min7</th>\n      <th>G_min</th>\n      <th>G_min_min7</th>\n    </tr>\n    <tr>\n      <th>timestamp</th>\n      <th></th>\n      <th></th>\n      <th></th>\n      <th></th>\n      <th></th>\n      <th></th>\n      <th></th>\n      <th></th>\n      <th></th>\n      <th></th>\n      <th></th>\n      <th></th>\n      <th></th>\n      <th></th>\n      <th></th>\n      <th></th>\n      <th></th>\n      <th></th>\n      <th></th>\n      <th></th>\n      <th></th>\n    </tr>\n  </thead>\n  <tbody>\n    <tr>\n      <th>0.5</th>\n      <td>0</td>\n      <td>0</td>\n      <td>0</td>\n      <td>0</td>\n      <td>0</td>\n      <td>0</td>\n      <td>0</td>\n      <td>0</td>\n      <td>0</td>\n      <td>0</td>\n      <td>...</td>\n      <td>0</td>\n      <td>0</td>\n      <td>0</td>\n      <td>0</td>\n      <td>0</td>\n      <td>1</td>\n      <td>0</td>\n      <td>0</td>\n      <td>0</td>\n      <td>0</td>\n    </tr>\n    <tr>\n      <th>2.0</th>\n      <td>0</td>\n      <td>0</td>\n      <td>0</td>\n      <td>0</td>\n      <td>0</td>\n      <td>0</td>\n      <td>0</td>\n      <td>0</td>\n      <td>0</td>\n      <td>0</td>\n      <td>...</td>\n      <td>0</td>\n      <td>0</td>\n      <td>0</td>\n      <td>0</td>\n      <td>0</td>\n      <td>0</td>\n      <td>0</td>\n      <td>0</td>\n      <td>0</td>\n      <td>0</td>\n    </tr>\n    <tr>\n      <th>3.5</th>\n      <td>0</td>\n      <td>0</td>\n      <td>0</td>\n      <td>0</td>\n      <td>0</td>\n      <td>0</td>\n      <td>0</td>\n      <td>0</td>\n      <td>0</td>\n      <td>0</td>\n      <td>...</td>\n      <td>0</td>\n      <td>0</td>\n      <td>0</td>\n      <td>0</td>\n      <td>0</td>\n      <td>1</td>\n      <td>0</td>\n      <td>0</td>\n      <td>0</td>\n      <td>0</td>\n    </tr>\n    <tr>\n      <th>6.4</th>\n      <td>0</td>\n      <td>0</td>\n      <td>0</td>\n      <td>0</td>\n      <td>0</td>\n      <td>0</td>\n      <td>0</td>\n      <td>0</td>\n      <td>0</td>\n      <td>0</td>\n      <td>...</td>\n      <td>0</td>\n      <td>0</td>\n      <td>0</td>\n      <td>0</td>\n      <td>0</td>\n      <td>0</td>\n      <td>0</td>\n      <td>0</td>\n      <td>0</td>\n      <td>0</td>\n    </tr>\n    <tr>\n      <th>7.9</th>\n      <td>0</td>\n      <td>0</td>\n      <td>0</td>\n      <td>0</td>\n      <td>0</td>\n      <td>0</td>\n      <td>0</td>\n      <td>0</td>\n      <td>0</td>\n      <td>0</td>\n      <td>...</td>\n      <td>0</td>\n      <td>0</td>\n      <td>0</td>\n      <td>0</td>\n      <td>0</td>\n      <td>0</td>\n      <td>0</td>\n      <td>0</td>\n      <td>0</td>\n      <td>0</td>\n    </tr>\n    <tr>\n      <th>...</th>\n      <td>...</td>\n      <td>...</td>\n      <td>...</td>\n      <td>...</td>\n      <td>...</td>\n      <td>...</td>\n      <td>...</td>\n      <td>...</td>\n      <td>...</td>\n      <td>...</td>\n      <td>...</td>\n      <td>...</td>\n      <td>...</td>\n      <td>...</td>\n      <td>...</td>\n      <td>...</td>\n      <td>...</td>\n      <td>...</td>\n      <td>...</td>\n      <td>...</td>\n      <td>...</td>\n    </tr>\n    <tr>\n      <th>343.1</th>\n      <td>0</td>\n      <td>0</td>\n      <td>0</td>\n      <td>0</td>\n      <td>0</td>\n      <td>0</td>\n      <td>0</td>\n      <td>0</td>\n      <td>0</td>\n      <td>0</td>\n      <td>...</td>\n      <td>0</td>\n      <td>0</td>\n      <td>0</td>\n      <td>0</td>\n      <td>0</td>\n      <td>1</td>\n      <td>0</td>\n      <td>0</td>\n      <td>0</td>\n      <td>0</td>\n    </tr>\n    <tr>\n      <th>344.7</th>\n      <td>0</td>\n      <td>0</td>\n      <td>0</td>\n      <td>0</td>\n      <td>0</td>\n      <td>0</td>\n      <td>0</td>\n      <td>0</td>\n      <td>0</td>\n      <td>0</td>\n      <td>...</td>\n      <td>0</td>\n      <td>0</td>\n      <td>0</td>\n      <td>0</td>\n      <td>0</td>\n      <td>0</td>\n      <td>0</td>\n      <td>0</td>\n      <td>0</td>\n      <td>0</td>\n    </tr>\n    <tr>\n      <th>346.2</th>\n      <td>0</td>\n      <td>0</td>\n      <td>0</td>\n      <td>0</td>\n      <td>0</td>\n      <td>0</td>\n      <td>0</td>\n      <td>0</td>\n      <td>0</td>\n      <td>0</td>\n      <td>...</td>\n      <td>0</td>\n      <td>0</td>\n      <td>0</td>\n      <td>0</td>\n      <td>0</td>\n      <td>0</td>\n      <td>1</td>\n      <td>0</td>\n      <td>0</td>\n      <td>0</td>\n    </tr>\n    <tr>\n      <th>355.6</th>\n      <td>0</td>\n      <td>1</td>\n      <td>0</td>\n      <td>0</td>\n      <td>0</td>\n      <td>0</td>\n      <td>0</td>\n      <td>0</td>\n      <td>0</td>\n      <td>0</td>\n      <td>...</td>\n      <td>0</td>\n      <td>0</td>\n      <td>0</td>\n      <td>0</td>\n      <td>0</td>\n      <td>0</td>\n      <td>0</td>\n      <td>0</td>\n      <td>0</td>\n      <td>0</td>\n    </tr>\n    <tr>\n      <th>356.1</th>\n      <td>0</td>\n      <td>0</td>\n      <td>0</td>\n      <td>0</td>\n      <td>0</td>\n      <td>0</td>\n      <td>0</td>\n      <td>0</td>\n      <td>0</td>\n      <td>0</td>\n      <td>...</td>\n      <td>0</td>\n      <td>0</td>\n      <td>0</td>\n      <td>0</td>\n      <td>0</td>\n      <td>1</td>\n      <td>0</td>\n      <td>0</td>\n      <td>0</td>\n      <td>0</td>\n    </tr>\n  </tbody>\n</table>\n<p>176 rows × 51 columns</p>\n</div>"
     },
     "metadata": {},
     "execution_count": 16
    }
   ],
   "source": [
    "lost_penny\n",
    "lp_crosstab = pd.crosstab(lost_penny[\"timestamp\"], lost_penny[\"chord\"])\n",
    "lp_crosstab"
   ]
  },
  {
   "cell_type": "code",
   "execution_count": 20,
   "metadata": {},
   "outputs": [
    {
     "output_type": "stream",
     "name": "stdout",
     "text": [
      "['G_maj', 'D_maj_min7', 'E_min', 'B_maj_min7', 'A_maj_min7', 'D_maj', 'G_maj_maj7', 'Eb_dim', 'B_min_min7', 'G_min', 'C_min', 'F_maj', 'Bb_maj_maj7', 'C_min_min7', 'Bb_maj', 'G_maj_min7', 'G_min_min7', 'Eb_maj_maj7', 'E_maj', 'E_maj_maj7', 'Eb_maj_min7', 'Ab_maj', 'Ab_maj_maj7', 'C_maj_min7', 'F_min', 'Ab_maj_min7', 'C#_maj', 'F_maj_min7', 'Bb_min_min7', 'F#_maj', 'Bb_dim_dim7', 'A_dim_min7', 'Bb_dim', 'F_maj_maj7', 'G_dim', 'F#_dim_min7', 'E_dim_min7', 'A_min_min7', 'C#_min_min7', 'D_dim', 'A_maj_maj7', 'Ab_dim', 'Bb_min', 'F_min_min7', 'C#_dim', 'C_maj', 'D_maj_maj7', 'A_dim_dim7', 'B_dim_dim7', 'Eb_maj', 'B_maj']\n"
     ]
    }
   ],
   "source": [
    "print(list(lost_penny['chord'].unique()))"
   ]
  },
  {
   "cell_type": "code",
   "execution_count": null,
   "metadata": {},
   "outputs": [],
   "source": []
  }
 ],
 "metadata": {
  "kernelspec": {
   "name": "python3",
   "display_name": "Python 3.9.1 64-bit",
   "metadata": {
    "interpreter": {
     "hash": "aee8b7b246df8f9039afb4144a1f6fd8d2ca17a180786b69acc140d282b71a49"
    }
   }
  },
  "language_info": {
   "codemirror_mode": {
    "name": "ipython",
    "version": 3
   },
   "file_extension": ".py",
   "mimetype": "text/x-python",
   "name": "python",
   "nbconvert_exporter": "python",
   "pygments_lexer": "ipython3",
   "version": "3.9.1-final"
  }
 },
 "nbformat": 4,
 "nbformat_minor": 2
}